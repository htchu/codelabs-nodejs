{
  "nbformat": 4,
  "nbformat_minor": 0,
  "metadata": {
    "colab": {
      "name": "day2.ipynb",
      "version": "0.3.2",
      "provenance": [],
      "include_colab_link": true
    },
    "kernelspec": {
      "name": "python3",
      "display_name": "Python 3"
    }
  },
  "cells": [
    {
      "cell_type": "markdown",
      "metadata": {
        "id": "view-in-github",
        "colab_type": "text"
      },
      "source": [
        "[View in Colaboratory](https://colab.research.google.com/github/htchu/codelabs-nodejs/blob/master/day2-July4/day2.ipynb)"
      ]
    },
    {
      "metadata": {
        "id": "bGea0y-dIPEq",
        "colab_type": "text"
      },
      "cell_type": "markdown",
      "source": [
        "# AUAI Day2 "
      ]
    },
    {
      "metadata": {
        "id": "qcYYAjV6ITV-",
        "colab_type": "text"
      },
      "cell_type": "markdown",
      "source": [
        "## AIY installation + Google assistant srvice + Dialogflow\n",
        "\n",
        "###AIY\n",
        "https://aiyprojects.withgoogle.com/voice-v1/\n",
        "\n",
        "###Google assistant service\n",
        "https://developers.google.com/assistant/sdk/guides/service/python/\n",
        "\n",
        "###Dialogflow\n",
        "https://dialogflow.com/\n",
        "\n",
        "###Build Actions for the Google Assistant \n",
        "https://codelabs.developers.google.com/codelabs/actions-1/"
      ]
    },
    {
      "metadata": {
        "id": "pTP_O_YcINFT",
        "colab_type": "code",
        "colab": {}
      },
      "cell_type": "code",
      "source": [
        ""
      ],
      "execution_count": 0,
      "outputs": []
    }
  ]
}